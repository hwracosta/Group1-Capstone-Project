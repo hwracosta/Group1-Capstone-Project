{
 "cells": [
  {
   "cell_type": "code",
   "execution_count": null,
   "id": "34c7c87c",
   "metadata": {},
   "outputs": [],
   "source": [
    "# Import necessary libraries\n",
    "import pandas as pd\n",
    "import numpy as np\n",
    "from sklearn.cluster import KMeans\n",
    "from sklearn.preprocessing import StandardScaler, LabelEncoder\n",
    "from sklearn.metrics import silhouette_score\n",
    "import matplotlib.pyplot as plt\n",
    "import seaborn as sns\n",
    "from sklearn.decomposition import PCA\n",
    "from kneed import KneeLocator"
   ]
  },
  {
   "cell_type": "code",
   "execution_count": null,
   "id": "e2274182",
   "metadata": {},
   "outputs": [],
   "source": [
    "# ## 1. Load the Dataset\n",
    "print(\"Step 1: Loading the dataset...\")\n",
    "file_path = './Depression Dataset.csv'\n",
    "df = pd.read_csv(file_path)\n",
    "print(f\"Dataset loaded successfully! Shape: {df.shape}\")\n",
    "df.head()"
   ]
  },
  {
   "cell_type": "code",
   "execution_count": null,
   "id": "a2a026f4",
   "metadata": {},
   "outputs": [],
   "source": [
    "# ## 2. Preprocess the Data\n",
    "print(\"\\nStep 2: Preprocessing the dataset...\")\n",
    "# Exclude target column and encode categorical features\n",
    "X = df.drop(columns=['DEPRESSED'])\n",
    "for column in X.columns:\n",
    "    if X[column].dtype == 'object':\n",
    "        X[column] = LabelEncoder().fit_transform(X[column])"
   ]
  },
  {
   "cell_type": "code",
   "execution_count": null,
   "id": "4150a1b2",
   "metadata": {},
   "outputs": [],
   "source": [
    "# Scale the features\n",
    "scaler = StandardScaler()\n",
    "X_scaled = scaler.fit_transform(X)\n",
    "print(\"Data preprocessing complete. Features are now encoded and scaled.\")"
   ]
  },
  {
   "cell_type": "code",
   "execution_count": null,
   "id": "bc498321",
   "metadata": {},
   "outputs": [],
   "source": [
    "# ## 3. Determine Optimal Number of Clusters\n",
    "print(\"\\nStep 3: Determining the optimal number of clusters using the Elbow Method...\")\n",
    "inertias = []\n",
    "K = range(2, 11)\n",
    "for k in K:\n",
    "    kmeans = KMeans(n_clusters=k, random_state=42)\n",
    "    kmeans.fit(X_scaled)\n",
    "    inertias.append(kmeans.inertia_)"
   ]
  },
  {
   "cell_type": "code",
   "execution_count": null,
   "id": "15b48d9d",
   "metadata": {},
   "outputs": [],
   "source": [
    "# Plot elbow curve\n",
    "plt.figure(figsize=(8, 5))\n",
    "plt.plot(K, inertias, 'bx-')\n",
    "plt.xlabel('Number of Clusters (k)')\n",
    "plt.ylabel('Inertia')\n",
    "plt.title('Elbow Method for Optimal k')\n",
    "plt.grid()\n",
    "plt.show()"
   ]
  },
  {
   "cell_type": "code",
   "execution_count": null,
   "id": "d45d66a0",
   "metadata": {},
   "outputs": [],
   "source": [
    "# Use KneeLocator to find the \"elbow\"\n",
    "knee = KneeLocator(K, inertias, curve='convex', direction='decreasing')\n",
    "optimal_k = knee.knee\n",
    "print(f\"Optimal number of clusters detected: k={optimal_k}\")"
   ]
  },
  {
   "cell_type": "code",
   "execution_count": null,
   "id": "150c53a3",
   "metadata": {},
   "outputs": [],
   "source": [
    "# ## 4. Perform K-Means Clustering\n",
    "print(\"\\nStep 4: Performing K-Means clustering...\")\n",
    "kmeans = KMeans(n_clusters=optimal_k, random_state=42)\n",
    "clusters = kmeans.fit_predict(X_scaled)\n",
    "df['Cluster'] = clusters\n",
    "print(f\"K-Means clustering complete. Clusters assigned for k={optimal_k}.\")"
   ]
  },
  {
   "cell_type": "code",
   "execution_count": null,
   "id": "475d778c",
   "metadata": {},
   "outputs": [],
   "source": [
    "# ## 5. Evaluate Clustering with Silhouette Score\n",
    "silhouette_avg = silhouette_score(X_scaled, clusters)\n",
    "print(f\"\\nStep 5: Evaluating clustering performance...\")\n",
    "print(f\"Silhouette Score: {silhouette_avg:.2f}\")\n",
    "if silhouette_avg > 0.5:\n",
    "    print(\"Clusters are well-separated and cohesive.\")\n",
    "elif silhouette_avg > 0.25:\n",
    "    print(\"Clusters are reasonably separated but could overlap.\")\n",
    "else:\n",
    "    print(\"Clusters are poorly separated; consider revising the clustering approach.\")"
   ]
  },
  {
   "cell_type": "code",
   "execution_count": null,
   "id": "50103b54",
   "metadata": {},
   "outputs": [],
   "source": [
    "# ## 6. Analyze Cluster Characteristics\n",
    "print(\"\\nStep 6: Analyzing distinctive features for each cluster...\")\n",
    "cluster_centers = pd.DataFrame(kmeans.cluster_centers_, columns=X.columns)"
   ]
  },
  {
   "cell_type": "code",
   "execution_count": null,
   "id": "da972680",
   "metadata": {},
   "outputs": [],
   "source": [
    "for i in range(len(cluster_centers)):\n",
    "    print(f\"\\nCluster {i}:\")\n",
    "    sorted_features = cluster_centers.iloc[i].sort_values()\n",
    "    print(\"Highest values:\")\n",
    "    print(sorted_features[-5:])\n",
    "    print(\"\\nLowest values:\")\n",
    "    print(sorted_features[:5])"
   ]
  },
  {
   "cell_type": "code",
   "execution_count": null,
   "id": "890aaea5",
   "metadata": {},
   "outputs": [],
   "source": [
    "# ## 7. Compare Clusters with Actual Labels\n",
    "if 'DEPRESSED' in df.columns:\n",
    "    print(\"\\nStep 7: Comparing clusters with actual labels...\")\n",
    "    contingency_table = pd.crosstab(df['Cluster'], df['DEPRESSED'])\n",
    "    print(\"Contingency Table (Clusters vs Actual Labels):\")\n",
    "    print(contingency_table)\n",
    "\n",
    "    # Visualize contingency table as heatmap\n",
    "    sns.heatmap(contingency_table, annot=True, fmt='d', cmap='Blues')\n",
    "    plt.title('Clusters vs Actual Labels')\n",
    "    plt.ylabel('Cluster')\n",
    "    plt.xlabel('Depressed (Actual)')\n",
    "    plt.show()"
   ]
  },
  {
   "cell_type": "code",
   "execution_count": null,
   "id": "6d82793f",
   "metadata": {},
   "outputs": [],
   "source": [
    "# ## 8. Visualize Clusters with PCA\n",
    "print(\"\\nStep 8: Visualizing clusters in 2D using PCA...\")\n",
    "pca = PCA(n_components=2)\n",
    "X_pca = pca.fit_transform(X_scaled)"
   ]
  },
  {
   "cell_type": "code",
   "execution_count": null,
   "id": "0a993bfd",
   "metadata": {},
   "outputs": [],
   "source": [
    "plt.figure(figsize=(8, 5))\n",
    "plt.scatter(X_pca[:, 0], X_pca[:, 1], c=clusters, cmap='viridis', edgecolor='k', alpha=0.7)\n",
    "plt.colorbar(label='Cluster')\n",
    "plt.title('K-Means Clustering Visualization (PCA)')\n",
    "plt.xlabel('Principal Component 1')\n",
    "plt.ylabel('Principal Component 2')\n",
    "plt.grid()\n",
    "plt.show()"
   ]
  },
  {
   "cell_type": "code",
   "execution_count": null,
   "id": "29a0bb94",
   "metadata": {},
   "outputs": [],
   "source": [
    "print(\"\\nAll steps completed! The clustering analysis is now ready.\")"
   ]
  }
 ],
 "metadata": {
  "jupytext": {
   "formats": "ipynb,py",
   "main_language": "python",
   "sync": true
  }
 },
 "nbformat": 4,
 "nbformat_minor": 5
}
