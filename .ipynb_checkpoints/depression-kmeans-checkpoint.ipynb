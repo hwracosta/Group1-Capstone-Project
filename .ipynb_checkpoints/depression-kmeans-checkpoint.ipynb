{
 "cells": [
  {
   "cell_type": "code",
   "execution_count": 1,
   "id": "c22b9e5b",
   "metadata": {},
   "outputs": [],
   "source": [
    "# Import libraries\n",
    "import pandas as pd\n",
    "import numpy as np\n",
    "from sklearn.cluster import KMeans\n",
    "from sklearn.preprocessing import StandardScaler, LabelEncoder\n",
    "from sklearn.metrics import silhouette_score\n",
    "import matplotlib.pyplot as plt\n",
    "import seaborn as sns"
   ]
  },
  {
   "cell_type": "code",
   "execution_count": 2,
   "id": "342c7f83",
   "metadata": {
    "scrolled": true
   },
   "outputs": [
    {
     "name": "stdout",
     "output_type": "stream",
     "text": [
      "Dataset Shape: (604, 31)\n"
     ]
    },
    {
     "data": {
      "text/html": [
       "<div>\n",
       "<style scoped>\n",
       "    .dataframe tbody tr th:only-of-type {\n",
       "        vertical-align: middle;\n",
       "    }\n",
       "\n",
       "    .dataframe tbody tr th {\n",
       "        vertical-align: top;\n",
       "    }\n",
       "\n",
       "    .dataframe thead th {\n",
       "        text-align: right;\n",
       "    }\n",
       "</style>\n",
       "<table border=\"1\" class=\"dataframe\">\n",
       "  <thead>\n",
       "    <tr style=\"text-align: right;\">\n",
       "      <th></th>\n",
       "      <th>AGERNG</th>\n",
       "      <th>GENDER</th>\n",
       "      <th>EDU</th>\n",
       "      <th>PROF</th>\n",
       "      <th>MARSTS</th>\n",
       "      <th>RESDPL</th>\n",
       "      <th>LIVWTH</th>\n",
       "      <th>ENVSAT</th>\n",
       "      <th>POSSAT</th>\n",
       "      <th>FINSTR</th>\n",
       "      <th>...</th>\n",
       "      <th>ANXI</th>\n",
       "      <th>DEPRI</th>\n",
       "      <th>ABUSED</th>\n",
       "      <th>CHEAT</th>\n",
       "      <th>THREAT</th>\n",
       "      <th>SUICIDE</th>\n",
       "      <th>INFER</th>\n",
       "      <th>CONFLICT</th>\n",
       "      <th>LOST</th>\n",
       "      <th>DEPRESSED</th>\n",
       "    </tr>\n",
       "  </thead>\n",
       "  <tbody>\n",
       "    <tr>\n",
       "      <th>0</th>\n",
       "      <td>26-30</td>\n",
       "      <td>Female</td>\n",
       "      <td>Post Graduate</td>\n",
       "      <td>Unemployed</td>\n",
       "      <td>Unmarried</td>\n",
       "      <td>Town</td>\n",
       "      <td>With Family</td>\n",
       "      <td>Yes</td>\n",
       "      <td>Yes</td>\n",
       "      <td>No</td>\n",
       "      <td>...</td>\n",
       "      <td>Yes</td>\n",
       "      <td>No</td>\n",
       "      <td>No</td>\n",
       "      <td>No</td>\n",
       "      <td>No</td>\n",
       "      <td>No</td>\n",
       "      <td>No</td>\n",
       "      <td>Yes</td>\n",
       "      <td>No</td>\n",
       "      <td>0</td>\n",
       "    </tr>\n",
       "    <tr>\n",
       "      <th>1</th>\n",
       "      <td>26-30</td>\n",
       "      <td>Male</td>\n",
       "      <td>Post Graduate</td>\n",
       "      <td>Service holder (Private)</td>\n",
       "      <td>Unmarried</td>\n",
       "      <td>City</td>\n",
       "      <td>With Family</td>\n",
       "      <td>Yes</td>\n",
       "      <td>No</td>\n",
       "      <td>Yes</td>\n",
       "      <td>...</td>\n",
       "      <td>Yes</td>\n",
       "      <td>Yes</td>\n",
       "      <td>Yes</td>\n",
       "      <td>No</td>\n",
       "      <td>No</td>\n",
       "      <td>No</td>\n",
       "      <td>Yes</td>\n",
       "      <td>No</td>\n",
       "      <td>No</td>\n",
       "      <td>1</td>\n",
       "    </tr>\n",
       "    <tr>\n",
       "      <th>2</th>\n",
       "      <td>21-25</td>\n",
       "      <td>Male</td>\n",
       "      <td>HSC</td>\n",
       "      <td>Student</td>\n",
       "      <td>Unmarried</td>\n",
       "      <td>City</td>\n",
       "      <td>With Family</td>\n",
       "      <td>Yes</td>\n",
       "      <td>Yes</td>\n",
       "      <td>No</td>\n",
       "      <td>...</td>\n",
       "      <td>Yes</td>\n",
       "      <td>Yes</td>\n",
       "      <td>No</td>\n",
       "      <td>No</td>\n",
       "      <td>No</td>\n",
       "      <td>No</td>\n",
       "      <td>No</td>\n",
       "      <td>No</td>\n",
       "      <td>No</td>\n",
       "      <td>0</td>\n",
       "    </tr>\n",
       "    <tr>\n",
       "      <th>3</th>\n",
       "      <td>16-20</td>\n",
       "      <td>Male</td>\n",
       "      <td>HSC</td>\n",
       "      <td>Student</td>\n",
       "      <td>Unmarried</td>\n",
       "      <td>City</td>\n",
       "      <td>With Family</td>\n",
       "      <td>No</td>\n",
       "      <td>Yes</td>\n",
       "      <td>No</td>\n",
       "      <td>...</td>\n",
       "      <td>Yes</td>\n",
       "      <td>Yes</td>\n",
       "      <td>No</td>\n",
       "      <td>Yes</td>\n",
       "      <td>No</td>\n",
       "      <td>No</td>\n",
       "      <td>No</td>\n",
       "      <td>No</td>\n",
       "      <td>No</td>\n",
       "      <td>1</td>\n",
       "    </tr>\n",
       "    <tr>\n",
       "      <th>4</th>\n",
       "      <td>21-25</td>\n",
       "      <td>Male</td>\n",
       "      <td>Graduate</td>\n",
       "      <td>Student</td>\n",
       "      <td>Unmarried</td>\n",
       "      <td>Town</td>\n",
       "      <td>With Family</td>\n",
       "      <td>No</td>\n",
       "      <td>Yes</td>\n",
       "      <td>Yes</td>\n",
       "      <td>...</td>\n",
       "      <td>Yes</td>\n",
       "      <td>Yes</td>\n",
       "      <td>No</td>\n",
       "      <td>No</td>\n",
       "      <td>No</td>\n",
       "      <td>No</td>\n",
       "      <td>Yes</td>\n",
       "      <td>Yes</td>\n",
       "      <td>No</td>\n",
       "      <td>1</td>\n",
       "    </tr>\n",
       "  </tbody>\n",
       "</table>\n",
       "<p>5 rows × 31 columns</p>\n",
       "</div>"
      ],
      "text/plain": [
       "  AGERNG  GENDER            EDU                      PROF     MARSTS RESDPL  \\\n",
       "0  26-30  Female  Post Graduate                Unemployed  Unmarried   Town   \n",
       "1  26-30    Male  Post Graduate  Service holder (Private)  Unmarried   City   \n",
       "2  21-25    Male            HSC                   Student  Unmarried   City   \n",
       "3  16-20    Male            HSC                   Student  Unmarried   City   \n",
       "4  21-25    Male       Graduate                   Student  Unmarried   Town   \n",
       "\n",
       "        LIVWTH ENVSAT POSSAT FINSTR  ... ANXI DEPRI ABUSED CHEAT THREAT  \\\n",
       "0  With Family    Yes    Yes     No  ...  Yes    No     No    No     No   \n",
       "1  With Family    Yes     No    Yes  ...  Yes   Yes    Yes    No     No   \n",
       "2  With Family    Yes    Yes     No  ...  Yes   Yes     No    No     No   \n",
       "3  With Family     No    Yes     No  ...  Yes   Yes     No   Yes     No   \n",
       "4  With Family     No    Yes    Yes  ...  Yes   Yes     No    No     No   \n",
       "\n",
       "  SUICIDE INFER CONFLICT LOST DEPRESSED  \n",
       "0      No    No      Yes   No         0  \n",
       "1      No   Yes       No   No         1  \n",
       "2      No    No       No   No         0  \n",
       "3      No    No       No   No         1  \n",
       "4      No   Yes      Yes   No         1  \n",
       "\n",
       "[5 rows x 31 columns]"
      ]
     },
     "execution_count": 2,
     "metadata": {},
     "output_type": "execute_result"
    }
   ],
   "source": [
    "# Load the dataset\n",
    "file_path = './Depression Dataset.csv'  # Replace with actual path\n",
    "df = pd.read_csv(file_path)\n",
    "print(f'Dataset Shape: {df.shape}')\n",
    "df.head()"
   ]
  },
  {
   "cell_type": "code",
   "execution_count": 3,
   "id": "e7fd302d",
   "metadata": {},
   "outputs": [],
   "source": [
    "# Preprocessing: Encode categorical columns and scale features\n",
    "X = df.drop(columns=['DEPRESSED'])  # Exclude target column\n",
    "for column in X.columns:\n",
    "    if X[column].dtype == 'object':\n",
    "        X[column] = LabelEncoder().fit_transform(X[column])"
   ]
  },
  {
   "cell_type": "code",
   "execution_count": 4,
   "id": "369ba41d",
   "metadata": {},
   "outputs": [],
   "source": [
    "# Scale the features\n",
    "scaler = StandardScaler()\n",
    "X_scaled = scaler.fit_transform(X)"
   ]
  },
  {
   "cell_type": "code",
   "execution_count": 5,
   "id": "ebf98e46",
   "metadata": {},
   "outputs": [],
   "source": [
    "# Determine optimal number of clusters using the elbow method\n",
    "inertias = []\n",
    "K = range(2, 11)"
   ]
  },
  {
   "cell_type": "code",
   "execution_count": 6,
   "id": "7977843c",
   "metadata": {},
   "outputs": [],
   "source": [
    "for k in K:\n",
    "    kmeans = KMeans(n_clusters=k, random_state=42)\n",
    "    kmeans.fit(X_scaled)\n",
    "    inertias.append(kmeans.inertia_)"
   ]
  },
  {
   "cell_type": "code",
   "execution_count": 7,
   "id": "2d36e250",
   "metadata": {},
   "outputs": [
    {
     "data": {
      "image/png": "[encoded data removed]",
      "text/plain": [
       "<Figure size 800x500 with 1 Axes>"
      ]
     },
     "metadata": {},
     "output_type": "display_data"
    }
   ],
   "source": [
    "# Plot elbow curve\n",
    "plt.figure(figsize=(8, 5))\n",
    "plt.plot(K, inertias, 'bx-')\n",
    "plt.xlabel('Number of Clusters (k)')\n",
    "plt.ylabel('Inertia')\n",
    "plt.title('Elbow Method for Optimal k')\n",
    "plt.show()"
   ]
  },
  {
   "cell_type": "code",
   "execution_count": 8,
   "id": "769afb34",
   "metadata": {},
   "outputs": [],
   "source": [
    "# Fit K-Means with optimal k (assume k=3 based on elbow plot)\n",
    "optimal_k = 3\n",
    "kmeans = KMeans(n_clusters=optimal_k, random_state=42)\n",
    "clusters = kmeans.fit_predict(X_scaled)"
   ]
  },
  {
   "cell_type": "code",
   "execution_count": 9,
   "id": "04c19e22",
   "metadata": {},
   "outputs": [],
   "source": [
    "# Add cluster labels to the original dataset\n",
    "df['Cluster'] = clusters"
   ]
  },
  {
   "cell_type": "code",
   "execution_count": 10,
   "id": "e8a53006",
   "metadata": {},
   "outputs": [],
   "source": [
    "# Analyze cluster centers\n",
    "cluster_centers = pd.DataFrame(kmeans.cluster_centers_, columns=X.columns)"
   ]
  },
  {
   "cell_type": "code",
   "execution_count": 11,
   "id": "a7492411",
   "metadata": {},
   "outputs": [
    {
     "name": "stdout",
     "output_type": "stream",
     "text": [
      "\n",
      "Distinctive features for each cluster:\n",
      "\n",
      "Cluster 0:\n",
      "Highest values:\n",
      "PREMED     0.561654\n",
      "DRINK      0.667712\n",
      "ILLNESS    0.696286\n",
      "SMOKE      0.825887\n",
      "AGERNG     1.506361\n",
      "Name: 0, dtype: float64\n",
      "\n",
      "Lowest values:\n",
      "PROF      -1.947400\n",
      "MARSTS    -0.943490\n",
      "RESDPL    -0.497988\n",
      "SUICIDE   -0.262546\n",
      "CHEAT     -0.260426\n",
      "Name: 0, dtype: float64\n",
      "\n",
      "Cluster 1:\n",
      "Highest values:\n",
      "RESDPL    0.102357\n",
      "MARSTS    0.112815\n",
      "POSSAT    0.203394\n",
      "PROF      0.223007\n",
      "ENVSAT    0.271141\n",
      "Name: 1, dtype: float64\n",
      "\n",
      "Lowest values:\n",
      "DEPRI    -0.388618\n",
      "INFER    -0.383825\n",
      "CHEAT    -0.345364\n",
      "ABUSED   -0.304625\n",
      "ANXI     -0.304106\n",
      "Name: 1, dtype: float64\n",
      "\n",
      "Cluster 2:\n",
      "Highest values:\n",
      "SUICIDE    0.637105\n",
      "ABUSED     0.642223\n",
      "DEPRI      0.684645\n",
      "INFER      0.792633\n",
      "CHEAT      0.800055\n",
      "Name: 2, dtype: float64\n",
      "\n",
      "Lowest values:\n",
      "ENVSAT   -0.500759\n",
      "POSSAT   -0.427042\n",
      "GENDER   -0.174781\n",
      "AGERNG   -0.142805\n",
      "LIVWTH   -0.125159\n",
      "Name: 2, dtype: float64\n"
     ]
    }
   ],
   "source": [
    "print(\"\\nDistinctive features for each cluster:\")\n",
    "for i in range(len(cluster_centers)):\n",
    "    print(f\"\\nCluster {i}:\")\n",
    "    sorted_features = cluster_centers.iloc[i].sort_values()\n",
    "    print(\"Highest values:\")\n",
    "    print(sorted_features[-5:])\n",
    "    print(\"\\nLowest values:\")\n",
    "    print(sorted_features[:5])"
   ]
  },
  {
   "cell_type": "code",
   "execution_count": 12,
   "id": "c1f7be92",
   "metadata": {},
   "outputs": [
    {
     "name": "stdout",
     "output_type": "stream",
     "text": [
      "\n",
      "Contingency Table (Clusters vs Actual Labels):\n",
      "DEPRESSED    0    1\n",
      "Cluster            \n",
      "0           18   51\n",
      "1          189  169\n",
      "2            0  177\n"
     ]
    }
   ],
   "source": [
    "# Compare clusters with actual target variable\n",
    "if 'DEPRESSED' in df.columns:\n",
    "    contingency_table = pd.crosstab(df['Cluster'], df['DEPRESSED'])\n",
    "    print(\"\\nContingency Table (Clusters vs Actual Labels):\")\n",
    "    print(contingency_table)"
   ]
  },
  {
   "cell_type": "code",
   "execution_count": 13,
   "id": "bcd0fcb8",
   "metadata": {},
   "outputs": [
    {
     "data": {
      "image/png": "[encoded data removed]",
      "text/plain": [
       "<Figure size 800x500 with 2 Axes>"
      ]
     },
     "metadata": {},
     "output_type": "display_data"
    }
   ],
   "source": [
    "# Visualize the clusters using the first two features\n",
    "plt.figure(figsize=(8, 5))\n",
    "plt.scatter(X_scaled[:, 0], X_scaled[:, 1], c=clusters, cmap='viridis', edgecolor='k', alpha=0.7)\n",
    "plt.colorbar(label='Cluster')\n",
    "plt.title('K-Means Clustering Visualization')\n",
    "plt.xlabel('Feature 1 (Scaled)')\n",
    "plt.ylabel('Feature 2 (Scaled)')\n",
    "plt.show()"
   ]
  }
 ],
 "metadata": {
  "jupytext": {
   "cell_metadata_filter": "-all",
   "main_language": "python",
   "notebook_metadata_filter": "-all"
  },
  "kernelspec": {
   "display_name": "Python (venv)",
   "language": "python",
   "name": "venv"
  },
  "language_info": {
   "codemirror_mode": {
    "name": "ipython",
    "version": 3
   },
   "file_extension": ".py",
   "mimetype": "text/x-python",
   "name": "python",
   "nbconvert_exporter": "python",
   "pygments_lexer": "ipython3",
   "version": "3.13.1"
  }
 },
 "nbformat": 4,
 "nbformat_minor": 5
}
