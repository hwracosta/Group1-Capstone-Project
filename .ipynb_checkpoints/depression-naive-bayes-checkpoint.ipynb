{
 "cells": [
  {
   "cell_type": "code",
   "execution_count": null,
   "id": "7d6f5a58",
   "metadata": {},
   "outputs": [],
   "source": [
    "import pandas as pd\n",
    "from sklearn.model_selection import train_test_split\n",
    "from sklearn.naive_bayes import CategoricalNB\n",
    "from sklearn.metrics import accuracy_score, confusion_matrix, classification_report, precision_score, recall_score, f1_score\n",
    "import matplotlib.pyplot as plt\n",
    "import numpy as np"
   ]
  },
  {
   "cell_type": "code",
   "execution_count": null,
   "id": "1fef26c8",
   "metadata": {},
   "outputs": [],
   "source": [
    "# Load the depression dataset\n",
    "dataset_path = './Depression Dataset.csv'\n",
    "dataset = pd.read_csv(dataset_path)"
   ]
  },
  {
   "cell_type": "code",
   "execution_count": null,
   "id": "53598d82",
   "metadata": {},
   "outputs": [],
   "source": [
    "# Convert all columns to categorical data type\n",
    "for column in dataset.columns:\n",
    "    dataset[column] = dataset[column].astype('category')"
   ]
  },
  {
   "cell_type": "code",
   "execution_count": null,
   "id": "decaeef2",
   "metadata": {},
   "outputs": [],
   "source": [
    "# Separate features and target variable\n",
    "X = dataset.drop(columns=['DEPRESSED'])  # Assuming 'DEPRESSED' is the target column\n",
    "y = dataset['DEPRESSED']"
   ]
  },
  {
   "cell_type": "code",
   "execution_count": null,
   "id": "765a8ed9",
   "metadata": {},
   "outputs": [],
   "source": [
    "# Convert categorical columns to numerical using category codes\n",
    "X = X.apply(lambda col: col.cat.codes)\n",
    "y = y.cat.codes"
   ]
  },
  {
   "cell_type": "code",
   "execution_count": null,
   "id": "844735c1",
   "metadata": {},
   "outputs": [],
   "source": [
    "# Split data into training and testing sets\n",
    "X_train, X_test, y_train, y_test = train_test_split(X, y, test_size=0.2, random_state=42)"
   ]
  },
  {
   "cell_type": "code",
   "execution_count": null,
   "id": "1314b191",
   "metadata": {},
   "outputs": [],
   "source": [
    "# Initialize the Categorical Naive Bayes classifier\n",
    "nb_classifier = CategoricalNB()"
   ]
  },
  {
   "cell_type": "code",
   "execution_count": null,
   "id": "fabc7bab",
   "metadata": {},
   "outputs": [],
   "source": [
    "# Train the classifier\n",
    "nb_classifier.fit(X_train, y_train)"
   ]
  },
  {
   "cell_type": "code",
   "execution_count": null,
   "id": "2ea22c77",
   "metadata": {},
   "outputs": [],
   "source": [
    "# Make predictions on the test set\n",
    "y_pred = nb_classifier.predict(X_test)"
   ]
  },
  {
   "cell_type": "code",
   "execution_count": null,
   "id": "a9f82cb2",
   "metadata": {},
   "outputs": [],
   "source": [
    "# Evaluate the model\n",
    "accuracy = accuracy_score(y_test, y_pred)\n",
    "precision = precision_score(y_test, y_pred)\n",
    "recall = recall_score(y_test, y_pred)\n",
    "f1 = f1_score(y_test, y_pred)\n",
    "conf_matrix = confusion_matrix(y_test, y_pred)\n",
    "classification_rep = classification_report(y_test, y_pred)"
   ]
  },
  {
   "cell_type": "code",
   "execution_count": null,
   "id": "b8d57143",
   "metadata": {},
   "outputs": [],
   "source": [
    "# Display results\n",
    "print(f\"Accuracy: {accuracy * 100:.2f}%\")\n",
    "print(f\"Precision: {precision:.2f}\")\n",
    "print(f\"Recall: {recall:.2f}\")\n",
    "print(f\"F1-Score: {f1:.2f}\")\n",
    "print(\"Confusion Matrix:\")\n",
    "print(conf_matrix)\n",
    "print(\"Classification Report:\")\n",
    "print(classification_rep)"
   ]
  },
  {
   "cell_type": "code",
   "execution_count": null,
   "id": "da2aea83",
   "metadata": {},
   "outputs": [],
   "source": [
    "# Visualize confusion matrix as a heatmap\n",
    "plt.figure(figsize=(8,6))\n",
    "plt.imshow(conf_matrix, interpolation='nearest', cmap='Blues')\n",
    "plt.title('Confusion Matrix Heatmap')\n",
    "plt.colorbar()\n",
    "plt.xticks([0, 1], ['Not Depressed', 'Depressed'])\n",
    "plt.yticks([0, 1], ['Not Depressed', 'Depressed'])\n",
    "plt.xlabel('Predicted')\n",
    "plt.ylabel('Actual')\n",
    "plt.show()"
   ]
  }
 ],
 "metadata": {
  "jupytext": {
   "formats": "ipynb,py",
   "main_language": "python",
   "sync": true
  },
  "language_info": {
   "name": "python"
  }
 },
 "nbformat": 4,
 "nbformat_minor": 5
}
